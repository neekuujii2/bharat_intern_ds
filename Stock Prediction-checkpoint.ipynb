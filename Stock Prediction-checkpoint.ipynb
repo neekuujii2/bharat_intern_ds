{
 "cells": [
  {
   "cell_type": "markdown",
   "id": "14fe16c2",
   "metadata": {},
   "source": [
    "# Machine Learning for Stock Market Prediction With Step-by-Step Implementation\n"
   ]
  },
  {
   "cell_type": "markdown",
   "id": "26e9731d",
   "metadata": {},
   "source": [
    "Stock market prediction has been a significant area of research in Machine Learning. Machine learning algorithms such as regression, classifier, and support vector machine (SVM) help predict the stock market. This article presents a simple implementation of analyzing and forecasting stock market prediction using machine learning. The case study focuses on a popular online retail store, and Random Forest is a powerful tree-based technique for predicting stock prices.\n",
    "\n"
   ]
  },
  {
   "cell_type": "markdown",
   "id": "d062e86d",
   "metadata": {},
   "source": [
    "# Learning Objectives\n",
    "In this tutorial, we will learn about the best ways possible to predict stock prices using a long-short-term memory (LSTM) for time series forecasting.\n",
    "We will learn everything about stock market prediction using LSTM."
   ]
  },
  {
   "cell_type": "markdown",
   "id": "6b0f3126",
   "metadata": {},
   "source": [
    "# What is the Stock Market?\n",
    "The stock market is the collection of markets where stocks and other securities are bought and sold by investors. Publicly traded companies offer shares of ownership to the public, and those shares can be bought and sold on the stock market. Investors can make money by buying shares of a company at a low price and selling them at a higher price. The stock market is a key component of the global economy, providing businesses with funding for growth and expansion. It is also a popular way for individuals to invest and grow their wealth over time."
   ]
  },
  {
   "cell_type": "markdown",
   "id": "3b25a42c",
   "metadata": {},
   "source": [
    "# Importance of Stock Market\n",
    "\n"
   ]
  },
  {
   "cell_type": "raw",
   "id": "06519822",
   "metadata": {},
   "source": [
    "Importance\tDescription\n",
    "Capital Formation\tIt provides a source of capital for companies to raise funds for growth and expansion.\n",
    "Investment Opportunities\tInvestors can potentially grow their wealth over time by investing in the stock market.\n",
    "Economic Indicators\tThe stock market can indicate the overall health of the economy.\n",
    "Job Creation\tPublicly traded companies often create jobs and contribute to the economy’s growth.\n",
    "Corporate Governance\tShareholders can hold companies accountable for their actions and decision-making processes.\n",
    "Risk Management\tInvestors can use the stock market to manage their investment risk by diversifying their portfolio.\n",
    "Market Efficiency\tThe stock market helps allocate resources efficiently by directing investments to companies with promising prospects."
   ]
  },
  {
   "cell_type": "markdown",
   "id": "c0e92837",
   "metadata": {},
   "source": [
    "# What is Stock Market Prediction? [Problem Statement]\n",
    "Let us see the data on which we will be working before we begin implementing the software to anticipate stock market values. In this section, we will examine the stock price of Microsoft Corporation (MSFT) as reported by the National Association of Securities Dealers Automated Quotations (NASDAQ). The stock price data will be supplied as a Comma Separated File (.csv) that may be opened and analyzed in Excel or a Spreadsheet.\n",
    "\n",
    "MSFT’s stocks are listed on NASDAQ, and their value is updated every working day of the stock market. It should be noted that the market does not allow trading on Saturdays and Sundays. Therefore, there is a gap between the two dates. The Opening Value of the stock, the Highest and Lowest values of that stock on the same day, as well as the Closing Value at the end of the day are all indicated for each date.\n",
    "\n",
    "The Adjusted Close Value reflects the stock’s value after dividends have been declared (too technical!). Furthermore, the total volume of the stocks in the market is provided. With this information, it is up to the job of a Machine Learning/Data Scientist to look at the data and develop different algorithms that may extract patterns from the historical data of the Microsoft Corporation stock.\n",
    "\n"
   ]
  },
  {
   "cell_type": "markdown",
   "id": "357d866d",
   "metadata": {},
   "source": [
    "# Stock Market Prediction Using the Long Short-Term Memory Method\n",
    "We will use the Long Short-Term Memory(LSTM) method to create a Machine Learning model to forecast Microsoft Corporation stock values. They are used to make minor changes to the information by multiplying and adding. Long-term memory (LSTM) is a deep learning artificial recurrent neural network (RNN) architecture.\n",
    "\n",
    "Unlike traditional feed-forward neural networks, LSTM has feedback connections. It can handle single data points (such as pictures) as well as full data sequences (such as speech or video).\n",
    "\n",
    "Program Implementation\n",
    "\n",
    "We will now go to the section where we will utilize Machine Learning techniques in Python to estimate the stock value using the LSTM.\n",
    "\n"
   ]
  },
  {
   "cell_type": "markdown",
   "id": "6ac3b700",
   "metadata": {},
   "source": [
    "## Step 1: Importing the Libraries\n",
    "As we all know, the first step is to import the libraries required to preprocess Microsoft Corporation stock data and the other libraries required for constructing and visualizing the LSTM model outputs. We’ll be using the Keras library from the TensorFlow framework for this. All modules are imported from the Keras library.\n",
    "\n"
   ]
  },
  {
   "cell_type": "code",
   "execution_count": 1,
   "id": "03a3198f",
   "metadata": {},
   "outputs": [],
   "source": [
    "#Importing the Libraries\n",
    "import pandas as pd\n",
    "import numpy as np\n",
    "%matplotlib inline\n",
    "import matplotlib. pyplot as plt\n",
    "import matplotlib\n",
    "from sklearn.preprocessing import MinMaxScaler\n",
    "from keras. layers import LSTM, Dense, Dropout\n",
    "from sklearn.model_selection import TimeSeriesSplit\n",
    "from sklearn.metrics import mean_squared_error, r2_score\n",
    "import matplotlib. dates as mandates\n",
    "from sklearn. preprocessing import MinMaxScaler\n",
    "from sklearn import linear_model\n",
    "from keras.models import Sequential\n",
    "from keras.layers import Dense\n",
    "import keras.backend as K\n",
    "from keras.callbacks import EarlyStopping\n",
    "from tensorflow.keras.optimizers import Adam\n",
    "from keras.models import load_model\n",
    "from keras.layers import LSTM\n",
    "from tensorflow.python.keras.utils.np_utils import to_categorical\n",
    "from keras.utils import plot_model\n",
    "\n"
   ]
  },
  {
   "cell_type": "markdown",
   "id": "eaf59ab1",
   "metadata": {},
   "source": [
    "## Step 2: Getting to Visualising the Stock Market Prediction Data\n",
    "Using the Pandas Data Reader library, we will upload the stock data from the local system as a Comma Separated Value (.csv) file and save it to a pandas DataFrame. Finally, we will examine the data.\n",
    "\n"
   ]
  },
  {
   "cell_type": "code",
   "execution_count": 2,
   "id": "5d79ccba",
   "metadata": {},
   "outputs": [
    {
     "data": {
      "text/html": [
       "<div>\n",
       "<style scoped>\n",
       "    .dataframe tbody tr th:only-of-type {\n",
       "        vertical-align: middle;\n",
       "    }\n",
       "\n",
       "    .dataframe tbody tr th {\n",
       "        vertical-align: top;\n",
       "    }\n",
       "\n",
       "    .dataframe thead th {\n",
       "        text-align: right;\n",
       "    }\n",
       "</style>\n",
       "<table border=\"1\" class=\"dataframe\">\n",
       "  <thead>\n",
       "    <tr style=\"text-align: right;\">\n",
       "      <th></th>\n",
       "      <th>Open</th>\n",
       "      <th>High</th>\n",
       "      <th>Low</th>\n",
       "      <th>Close</th>\n",
       "      <th>Adj Close</th>\n",
       "      <th>Volume</th>\n",
       "    </tr>\n",
       "    <tr>\n",
       "      <th>Date</th>\n",
       "      <th></th>\n",
       "      <th></th>\n",
       "      <th></th>\n",
       "      <th></th>\n",
       "      <th></th>\n",
       "      <th></th>\n",
       "    </tr>\n",
       "  </thead>\n",
       "  <tbody>\n",
       "    <tr>\n",
       "      <th>2022-08-30</th>\n",
       "      <td>266.670013</td>\n",
       "      <td>267.049988</td>\n",
       "      <td>260.660004</td>\n",
       "      <td>262.970001</td>\n",
       "      <td>260.453796</td>\n",
       "      <td>22767100</td>\n",
       "    </tr>\n",
       "    <tr>\n",
       "      <th>2022-08-31</th>\n",
       "      <td>265.390015</td>\n",
       "      <td>267.109985</td>\n",
       "      <td>261.329987</td>\n",
       "      <td>261.470001</td>\n",
       "      <td>258.968170</td>\n",
       "      <td>24791800</td>\n",
       "    </tr>\n",
       "    <tr>\n",
       "      <th>2022-09-01</th>\n",
       "      <td>258.869995</td>\n",
       "      <td>260.890015</td>\n",
       "      <td>255.410004</td>\n",
       "      <td>260.399994</td>\n",
       "      <td>257.908417</td>\n",
       "      <td>23263400</td>\n",
       "    </tr>\n",
       "    <tr>\n",
       "      <th>2022-09-02</th>\n",
       "      <td>261.700012</td>\n",
       "      <td>264.739990</td>\n",
       "      <td>254.470001</td>\n",
       "      <td>256.059998</td>\n",
       "      <td>253.609924</td>\n",
       "      <td>22855400</td>\n",
       "    </tr>\n",
       "    <tr>\n",
       "      <th>2022-09-06</th>\n",
       "      <td>256.200012</td>\n",
       "      <td>257.829987</td>\n",
       "      <td>251.940002</td>\n",
       "      <td>253.250000</td>\n",
       "      <td>250.826813</td>\n",
       "      <td>21328200</td>\n",
       "    </tr>\n",
       "  </tbody>\n",
       "</table>\n",
       "</div>"
      ],
      "text/plain": [
       "                  Open        High         Low       Close   Adj Close  \\\n",
       "Date                                                                     \n",
       "2022-08-30  266.670013  267.049988  260.660004  262.970001  260.453796   \n",
       "2022-08-31  265.390015  267.109985  261.329987  261.470001  258.968170   \n",
       "2022-09-01  258.869995  260.890015  255.410004  260.399994  257.908417   \n",
       "2022-09-02  261.700012  264.739990  254.470001  256.059998  253.609924   \n",
       "2022-09-06  256.200012  257.829987  251.940002  253.250000  250.826813   \n",
       "\n",
       "              Volume  \n",
       "Date                  \n",
       "2022-08-30  22767100  \n",
       "2022-08-31  24791800  \n",
       "2022-09-01  23263400  \n",
       "2022-09-02  22855400  \n",
       "2022-09-06  21328200  "
      ]
     },
     "execution_count": 2,
     "metadata": {},
     "output_type": "execute_result"
    }
   ],
   "source": [
    "#Get the Dataset\n",
    "df=pd.read_csv('MSFT.csv',na_values=['null'],index_col='Date',parse_dates=True,infer_datetime_format=True)\n",
    "df.head()\n"
   ]
  },
  {
   "cell_type": "markdown",
   "id": "f094f2e9",
   "metadata": {},
   "source": [
    "# Step 3: Checking for Null Values by Printing the DataFrame Shape\n",
    "In this step, firstly, we will print the structure of the dataset. We’ll then check for null values in the data frame to ensure that there are none. The existence of null values in the dataset causes issues during training since they function as outliers, creating a wide variance in the training process.\n",
    "\n"
   ]
  },
  {
   "cell_type": "code",
   "execution_count": 3,
   "id": "e12a024a",
   "metadata": {},
   "outputs": [
    {
     "name": "stdout",
     "output_type": "stream",
     "text": [
      "Dataframe Shape:  (251, 6)\n",
      "Null Value Present: False\n"
     ]
    }
   ],
   "source": [
    "#Print the shape of Dataframe  and Check for Null Values\n",
    "print('Dataframe Shape: ', df. shape)\n",
    "print('Null Value Present:' , df.isnull().values.any())\n"
   ]
  },
  {
   "cell_type": "markdown",
   "id": "0c01a867",
   "metadata": {},
   "source": [
    "## Step 4: Plotting the True Adjusted Close Value\n",
    "The Adjusted Close Value is the final output value that will be forecasted using the Machine Learning model. This figure indicates the stock’s closing price on that particular day of stock market trading.\n",
    "\n"
   ]
  },
  {
   "cell_type": "code",
   "execution_count": 4,
   "id": "81996d54",
   "metadata": {},
   "outputs": [
    {
     "data": {
      "text/plain": [
       "<AxesSubplot:xlabel='Date'>"
      ]
     },
     "execution_count": 4,
     "metadata": {},
     "output_type": "execute_result"
    },
    {
     "data": {
      "image/png": "[encoded data removed]",
      "text/plain": [
       "<Figure size 640x480 with 1 Axes>"
      ]
     },
     "metadata": {},
     "output_type": "display_data"
    }
   ],
   "source": [
    "#Plot the True Adj Close Value\n",
    "df['Adj Close'].plot()\n"
   ]
  },
  {
   "cell_type": "markdown",
   "id": "98b882b2",
   "metadata": {},
   "source": [
    "# Step 5: Setting the Target Variable and Selecting the Features\n",
    "The output column is then assigned to the target variable in the following step. It is the adjusted relative value of Microsoft Stock in this situation. Furthermore, we pick the features that serve as the independent variable to the target variable (dependent variable). We choose four characteristics to account for training purposes:\n",
    "\n"
   ]
  },
  {
   "cell_type": "markdown",
   "id": "2f5495b9",
   "metadata": {},
   "source": [
    "Open\n"
   ]
  },
  {
   "cell_type": "markdown",
   "id": "aadf2293",
   "metadata": {},
   "source": [
    "High\n"
   ]
  },
  {
   "cell_type": "markdown",
   "id": "02a31a69",
   "metadata": {},
   "source": [
    "Low\n",
    "\n"
   ]
  },
  {
   "cell_type": "markdown",
   "id": "b28086f3",
   "metadata": {},
   "source": [
    "Volume"
   ]
  },
  {
   "cell_type": "code",
   "execution_count": 5,
   "id": "1368ebe6",
   "metadata": {},
   "outputs": [],
   "source": [
    "## Set Target Variable\n",
    "output_var = pd.DataFrame(df['Adj Close'])\n",
    "#Selecting the Features\n",
    "features = ['Open', 'High', 'Low', 'Volume']\n"
   ]
  },
  {
   "cell_type": "markdown",
   "id": "dba25b3b",
   "metadata": {},
   "source": [
    "## Step 6: Scaling\n",
    "\n",
    "To decrease the computational cost of the data in the table, we will scale the stock values to values between 0 and 1. As a result, all of the data in large numbers is reduced, and therefore memory consumption is decreased. Also, because the data is not spread out in huge values, we can achieve greater precision by scaling down. To perform this, we will be using the MinMaxScaler class of the sci-kit-learn library.\n",
    "\n"
   ]
  },
  {
   "cell_type": "code",
   "execution_count": 6,
   "id": "278f5eeb",
   "metadata": {},
   "outputs": [
    {
     "data": {
      "text/html": [
       "<div>\n",
       "<style scoped>\n",
       "    .dataframe tbody tr th:only-of-type {\n",
       "        vertical-align: middle;\n",
       "    }\n",
       "\n",
       "    .dataframe tbody tr th {\n",
       "        vertical-align: top;\n",
       "    }\n",
       "\n",
       "    .dataframe thead th {\n",
       "        text-align: right;\n",
       "    }\n",
       "</style>\n",
       "<table border=\"1\" class=\"dataframe\">\n",
       "  <thead>\n",
       "    <tr style=\"text-align: right;\">\n",
       "      <th></th>\n",
       "      <th>Open</th>\n",
       "      <th>High</th>\n",
       "      <th>Low</th>\n",
       "      <th>Volume</th>\n",
       "    </tr>\n",
       "    <tr>\n",
       "      <th>Date</th>\n",
       "      <th></th>\n",
       "      <th></th>\n",
       "      <th></th>\n",
       "      <th></th>\n",
       "    </tr>\n",
       "  </thead>\n",
       "  <tbody>\n",
       "    <tr>\n",
       "      <th>2022-08-30</th>\n",
       "      <td>0.340638</td>\n",
       "      <td>0.318644</td>\n",
       "      <td>0.339760</td>\n",
       "      <td>0.176412</td>\n",
       "    </tr>\n",
       "    <tr>\n",
       "      <th>2022-08-31</th>\n",
       "      <td>0.331762</td>\n",
       "      <td>0.319054</td>\n",
       "      <td>0.344579</td>\n",
       "      <td>0.202741</td>\n",
       "    </tr>\n",
       "    <tr>\n",
       "      <th>2022-09-01</th>\n",
       "      <td>0.286546</td>\n",
       "      <td>0.276559</td>\n",
       "      <td>0.301993</td>\n",
       "      <td>0.182866</td>\n",
       "    </tr>\n",
       "    <tr>\n",
       "      <th>2022-09-02</th>\n",
       "      <td>0.306172</td>\n",
       "      <td>0.302863</td>\n",
       "      <td>0.295231</td>\n",
       "      <td>0.177560</td>\n",
       "    </tr>\n",
       "    <tr>\n",
       "      <th>2022-09-06</th>\n",
       "      <td>0.268031</td>\n",
       "      <td>0.255653</td>\n",
       "      <td>0.277030</td>\n",
       "      <td>0.157701</td>\n",
       "    </tr>\n",
       "  </tbody>\n",
       "</table>\n",
       "</div>"
      ],
      "text/plain": [
       "                Open      High       Low    Volume\n",
       "Date                                              \n",
       "2022-08-30  0.340638  0.318644  0.339760  0.176412\n",
       "2022-08-31  0.331762  0.319054  0.344579  0.202741\n",
       "2022-09-01  0.286546  0.276559  0.301993  0.182866\n",
       "2022-09-02  0.306172  0.302863  0.295231  0.177560\n",
       "2022-09-06  0.268031  0.255653  0.277030  0.157701"
      ]
     },
     "execution_count": 6,
     "metadata": {},
     "output_type": "execute_result"
    }
   ],
   "source": [
    "#Scaling\n",
    "scaler = MinMaxScaler()\n",
    "feature_transform = scaler.fit_transform(df[features])\n",
    "feature_transform= pd.DataFrame(columns=features, data=feature_transform, index=df.index)\n",
    "feature_transform.head()\n"
   ]
  },
  {
   "cell_type": "markdown",
   "id": "7dc5735b",
   "metadata": {},
   "source": [
    "As shown in the above table, the values of the feature variables are scaled down to lower values when compared to the real values given above.\n",
    "\n"
   ]
  },
  {
   "cell_type": "markdown",
   "id": "1012e664",
   "metadata": {},
   "source": [
    "## Step 7: Creating a Training Set and a Test Set for Stock Market Prediction\n",
    "We must divide the entire dataset into training and test sets before feeding it into the training model. The Machine Learning LSTM model will be trained on the data in the training set and tested for accuracy and backpropagation on the test set.\n",
    "\n",
    "The sci-kit-learn library’s TimeSeriesSplit class will be used for this. We set the number of splits to 10, indicating that 10% of the data will be used as the test set and 90% of the data will be used to train the LSTM model. The advantage of utilizing this Time Series split is that the split time series data samples are examined at regular time intervals.\n",
    "\n"
   ]
  },
  {
   "cell_type": "code",
   "execution_count": 7,
   "id": "438a73bc",
   "metadata": {},
   "outputs": [],
   "source": [
    "#Splitting to Training set and Test set\n",
    "timesplit= TimeSeriesSplit(n_splits=10)\n",
    "for train_index, test_index in timesplit.split(feature_transform):\n",
    "        X_train, X_test = feature_transform[:len(train_index)], feature_transform[len(train_index): (len(train_index)+len(test_index))]\n",
    "        y_train, y_test = output_var[:len(train_index)].values.ravel(), output_var[len(train_index): (len(train_index)+len(test_index))].values.ravel()\n"
   ]
  },
  {
   "cell_type": "markdown",
   "id": "e48fbd81",
   "metadata": {},
   "source": [
    "## Step 8: Data Processing For LSTM\n",
    "Once the training and test sets are finalized, we will input the data into the LSTM model. Before we can do that, we must transform the training and test set data into a format that the LSTM model can interpret. As the LSTM needs that the data to be provided in the 3D form, we first transform the training and test data to NumPy arrays and then restructure them to match the format (Number of Samples, 1, Number of Features). Now, 6667 are the number of samples in the training set, which is 90% of 7334, and the number of features is 4. Therefore, the training set is reshaped to reflect this (6667, 1, 4). Likewise, the test set is reshaped."
   ]
  },
  {
   "cell_type": "code",
   "execution_count": 8,
   "id": "37525fbd",
   "metadata": {},
   "outputs": [],
   "source": [
    "#Process the data for LSTM\n",
    "trainX =np.array(X_train)\n",
    "testX =np.array(X_test)\n",
    "X_train = trainX.reshape(X_train.shape[0], 1, X_train.shape[1])\n",
    "X_test = testX.reshape(X_test.shape[0], 1, X_test.shape[1])\n"
   ]
  },
  {
   "cell_type": "markdown",
   "id": "6dc26f56",
   "metadata": {},
   "source": [
    "## Step 9: Building the LSTM Model for Stock Market Prediction\n",
    "Finally, we arrive at the point when we construct the LSTM Model. In this step, we’ll build a Sequential Keras model with one LSTM layer. The LSTM layer has 32 units and is followed by one Dense Layer of one neuron.\n",
    "\n",
    "We compile the model using Adam Optimizer and the Mean Squared Error as the loss function. For an LSTM model, this is the most preferred combination. The model is plotted and presented below.\n",
    "\n"
   ]
  },
  {
   "cell_type": "code",
   "execution_count": 9,
   "id": "1c645103",
   "metadata": {},
   "outputs": [
    {
     "name": "stdout",
     "output_type": "stream",
     "text": [
      "You must install pydot (`pip install pydot`) and install graphviz (see instructions at https://graphviz.gitlab.io/download/) for plot_model to work.\n"
     ]
    }
   ],
   "source": [
    "#Building the LSTM Model\n",
    "lstm = Sequential()\n",
    "lstm.add(LSTM(32, input_shape=(1, trainX.shape[1]), activation='relu', return_sequences=False))\n",
    "lstm.add(Dense(1))\n",
    "lstm.compile(loss='mean_squared_error', optimizer='adam')\n",
    "plot_model(lstm, show_shapes=True, show_layer_names=True)\n"
   ]
  },
  {
   "cell_type": "markdown",
   "id": "8a1bb7ae",
   "metadata": {},
   "source": [
    "## Step 10: Training the Stock Market Prediction Model\n",
    "Finally, we use the fit function to train the LSTM model created above on the training data for 100 epochs with a batch size of 8."
   ]
  },
  {
   "cell_type": "markdown",
   "id": "42505277",
   "metadata": {},
   "source": [
    "Finally, we can observe that the loss value has dropped exponentially over time over the 100-epoch training procedure, reaching a value of 0.4599.\n",
    "\n"
   ]
  },
  {
   "cell_type": "markdown",
   "id": "1a2468ed",
   "metadata": {},
   "source": [
    "## Step 11: Making the LSTM Prediction\n",
    "Now that we have our model ready, we can use it to forecast the Adjacent Close Value of the Microsoft stock by using a model trained using the LSTM network on the test set. This is accomplished by employing the simple predict function on the LSTM model that has been created."
   ]
  },
  {
   "cell_type": "code",
   "execution_count": 10,
   "id": "997c541c",
   "metadata": {},
   "outputs": [
    {
     "name": "stdout",
     "output_type": "stream",
     "text": [
      "1/1 [==============================] - 0s 232ms/step\n"
     ]
    }
   ],
   "source": [
    "#LSTM Prediction\n",
    "y_pred= lstm.predict(X_test)\n"
   ]
  },
  {
   "cell_type": "markdown",
   "id": "ed276259",
   "metadata": {},
   "source": [
    "## Step 12: Comparing Predicted vs True Adjusted Close Value – LSTM\n",
    "Finally, now that we’ve projected the values for the test set, we can display the graph to compare both Adj Close’s true values and Adj Close’s predicted value using the LSTM Machine Learning model.\n",
    "\n"
   ]
  },
  {
   "cell_type": "code",
   "execution_count": 11,
   "id": "2fd5c55c",
   "metadata": {},
   "outputs": [
    {
     "data": {
      "image/png": "[encoded data removed]",
      "text/plain": [
       "<Figure size 640x480 with 1 Axes>"
      ]
     },
     "metadata": {},
     "output_type": "display_data"
    }
   ],
   "source": [
    "#Predicted vs True Adj Close Value – LSTM\n",
    "plt.plot(y_test, label='True Value')\n",
    "plt.plot(y_pred, label='LSTM Value')\n",
    "plt.title('Prediction by LSTM')\n",
    "plt.xlabel('Time Scale')\n",
    "plt.ylabel('Scaled USD')\n",
    "plt.legend()\n",
    "plt.show()\n"
   ]
  },
  {
   "cell_type": "markdown",
   "id": "71aec841",
   "metadata": {},
   "source": [
    "The graph above demonstrates that the extremely basic single LSTM network model created above detects some patterns. We may get a more accurate depiction of every specific company’s stock value by fine-tuning many parameters and adding more LSTM layers to the model.\n"
   ]
  },
  {
   "cell_type": "markdown",
   "id": "e7487549",
   "metadata": {},
   "source": [
    "## Conclusion\n",
    "However, with the introduction of Machine Learning and its strong algorithms, the most recent market research and Stock Price Prediction using machine learning advancements have begun to include such approaches in analyzing stock market data. The Opening Value of the stock, the Highest and Lowest values of that stock on the same day, as well as the Closing Value at the end of the day are all indicated for each date. Furthermore, the total volume of the stocks in the market is provided; with this information, it is up to the job of a Machine Learning Data Scientist to look at the data and develop different algorithms that may help in finding appropriate stocks values.\n",
    "\n",
    "Predicting the stock market was a time-consuming and laborious procedure a few years or even a decade ago. However, with the application of machine learning for stock market forecasts, the procedure has become much simpler. Machine learning not only saves time and resources but also outperforms people in terms of performance. it will always prefer to use a trained computer algorithm since it will advise you based only on facts, numbers, and data and will not factor in emotions or prejudice. It would be interesting to incorporate sentiment analysis on news & social media regarding the stock market in general, as well as a given stock of interest."
   ]
  },
  {
   "cell_type": "markdown",
   "id": "93d92186",
   "metadata": {},
   "source": [
    "## Key Takeaways\n",
    "\n",
    "Stock Price Prediction using machine learning helps in discovering the future values of a company’s stocks and other assets.\n",
    "Predicting stock prices helps in gaining significant profits.\n"
   ]
  },
  {
   "cell_type": "code",
   "execution_count": null,
   "id": "db63e121",
   "metadata": {},
   "outputs": [],
   "source": []
  }
 ],
 "metadata": {
  "kernelspec": {
   "display_name": "Python 3 (ipykernel)",
   "language": "python",
   "name": "python3"
  },
  "language_info": {
   "codemirror_mode": {
    "name": "ipython",
    "version": 3
   },
   "file_extension": ".py",
   "mimetype": "text/x-python",
   "name": "python",
   "nbconvert_exporter": "python",
   "pygments_lexer": "ipython3",
   "version": "3.9.13"
  }
 },
 "nbformat": 4,
 "nbformat_minor": 5
}
